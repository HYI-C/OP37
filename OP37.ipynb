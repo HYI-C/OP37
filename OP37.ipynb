{
 "cells": [
  {
   "cell_type": "markdown",
   "id": "30ee0575",
   "metadata": {},
   "source": [
    "# This is the logbook for OP37"
   ]
  },
  {
   "cell_type": "code",
   "execution_count": 131,
   "id": "562c0142",
   "metadata": {},
   "outputs": [],
   "source": [
    "import pandas as pd\n",
    "import matplotlib.pyplot as plt\n",
    "import numpy as np\n",
    "from matplotlib.pyplot import figure"
   ]
  },
  {
   "cell_type": "markdown",
   "id": "03af2ed2",
   "metadata": {},
   "source": [
    "## Measuring in the canonical basis"
   ]
  },
  {
   "cell_type": "code",
   "execution_count": 132,
   "id": "6b04d992",
   "metadata": {},
   "outputs": [
    {
     "data": {
      "text/html": [
       "<div>\n",
       "<style scoped>\n",
       "    .dataframe tbody tr th:only-of-type {\n",
       "        vertical-align: middle;\n",
       "    }\n",
       "\n",
       "    .dataframe tbody tr th {\n",
       "        vertical-align: top;\n",
       "    }\n",
       "\n",
       "    .dataframe thead th {\n",
       "        text-align: right;\n",
       "    }\n",
       "</style>\n",
       "<table border=\"1\" class=\"dataframe\">\n",
       "  <thead>\n",
       "    <tr style=\"text-align: right;\">\n",
       "      <th></th>\n",
       "      <th>Beta</th>\n",
       "      <th>Beta_HWP</th>\n",
       "      <th>Alpha</th>\n",
       "      <th>theta</th>\n",
       "      <th>V_t</th>\n",
       "      <th>V_{t,max}</th>\n",
       "      <th>pr_t</th>\n",
       "      <th>V_r</th>\n",
       "      <th>V_(r,max)</th>\n",
       "      <th>pr_r</th>\n",
       "      <th>pr_r+pr_t</th>\n",
       "    </tr>\n",
       "  </thead>\n",
       "  <tbody>\n",
       "    <tr>\n",
       "      <th>0</th>\n",
       "      <td>44</td>\n",
       "      <td>44</td>\n",
       "      <td>0</td>\n",
       "      <td>-90</td>\n",
       "      <td>0.001</td>\n",
       "      <td>1.152</td>\n",
       "      <td>0.000868</td>\n",
       "      <td>1.116</td>\n",
       "      <td>1.11</td>\n",
       "      <td>1.005405</td>\n",
       "      <td>1.006273</td>\n",
       "    </tr>\n",
       "    <tr>\n",
       "      <th>1</th>\n",
       "      <td>54</td>\n",
       "      <td>44</td>\n",
       "      <td>10</td>\n",
       "      <td>-70</td>\n",
       "      <td>0.145</td>\n",
       "      <td>1.152</td>\n",
       "      <td>0.125868</td>\n",
       "      <td>0.963</td>\n",
       "      <td>1.11</td>\n",
       "      <td>0.867568</td>\n",
       "      <td>0.993436</td>\n",
       "    </tr>\n",
       "    <tr>\n",
       "      <th>2</th>\n",
       "      <td>64</td>\n",
       "      <td>44</td>\n",
       "      <td>20</td>\n",
       "      <td>-50</td>\n",
       "      <td>0.468</td>\n",
       "      <td>1.152</td>\n",
       "      <td>0.406250</td>\n",
       "      <td>0.651</td>\n",
       "      <td>1.11</td>\n",
       "      <td>0.586486</td>\n",
       "      <td>0.992736</td>\n",
       "    </tr>\n",
       "    <tr>\n",
       "      <th>3</th>\n",
       "      <td>74</td>\n",
       "      <td>44</td>\n",
       "      <td>30</td>\n",
       "      <td>-30</td>\n",
       "      <td>0.867</td>\n",
       "      <td>1.152</td>\n",
       "      <td>0.752604</td>\n",
       "      <td>0.273</td>\n",
       "      <td>1.11</td>\n",
       "      <td>0.245946</td>\n",
       "      <td>0.998550</td>\n",
       "    </tr>\n",
       "    <tr>\n",
       "      <th>4</th>\n",
       "      <td>84</td>\n",
       "      <td>44</td>\n",
       "      <td>40</td>\n",
       "      <td>-10</td>\n",
       "      <td>1.160</td>\n",
       "      <td>1.152</td>\n",
       "      <td>1.006944</td>\n",
       "      <td>0.010</td>\n",
       "      <td>1.11</td>\n",
       "      <td>0.009009</td>\n",
       "      <td>1.015953</td>\n",
       "    </tr>\n",
       "    <tr>\n",
       "      <th>5</th>\n",
       "      <td>94</td>\n",
       "      <td>44</td>\n",
       "      <td>50</td>\n",
       "      <td>10</td>\n",
       "      <td>1.150</td>\n",
       "      <td>1.152</td>\n",
       "      <td>0.998264</td>\n",
       "      <td>0.036</td>\n",
       "      <td>1.11</td>\n",
       "      <td>0.032432</td>\n",
       "      <td>1.030696</td>\n",
       "    </tr>\n",
       "    <tr>\n",
       "      <th>6</th>\n",
       "      <td>104</td>\n",
       "      <td>44</td>\n",
       "      <td>60</td>\n",
       "      <td>30</td>\n",
       "      <td>0.883</td>\n",
       "      <td>1.152</td>\n",
       "      <td>0.766493</td>\n",
       "      <td>0.257</td>\n",
       "      <td>1.11</td>\n",
       "      <td>0.231532</td>\n",
       "      <td>0.998025</td>\n",
       "    </tr>\n",
       "    <tr>\n",
       "      <th>7</th>\n",
       "      <td>114</td>\n",
       "      <td>44</td>\n",
       "      <td>70</td>\n",
       "      <td>50</td>\n",
       "      <td>0.524</td>\n",
       "      <td>1.152</td>\n",
       "      <td>0.454861</td>\n",
       "      <td>0.604</td>\n",
       "      <td>1.11</td>\n",
       "      <td>0.544144</td>\n",
       "      <td>0.999005</td>\n",
       "    </tr>\n",
       "    <tr>\n",
       "      <th>8</th>\n",
       "      <td>124</td>\n",
       "      <td>44</td>\n",
       "      <td>80</td>\n",
       "      <td>70</td>\n",
       "      <td>0.149</td>\n",
       "      <td>1.152</td>\n",
       "      <td>0.129340</td>\n",
       "      <td>0.965</td>\n",
       "      <td>1.11</td>\n",
       "      <td>0.869369</td>\n",
       "      <td>0.998710</td>\n",
       "    </tr>\n",
       "    <tr>\n",
       "      <th>9</th>\n",
       "      <td>134</td>\n",
       "      <td>44</td>\n",
       "      <td>90</td>\n",
       "      <td>90</td>\n",
       "      <td>0.001</td>\n",
       "      <td>1.152</td>\n",
       "      <td>0.000868</td>\n",
       "      <td>1.118</td>\n",
       "      <td>1.11</td>\n",
       "      <td>1.007207</td>\n",
       "      <td>1.008075</td>\n",
       "    </tr>\n",
       "  </tbody>\n",
       "</table>\n",
       "</div>"
      ],
      "text/plain": [
       "   Beta  Beta_HWP  Alpha  theta    V_t  V_{t,max}      pr_t    V_r  V_(r,max)  \\\n",
       "0    44        44      0    -90  0.001      1.152  0.000868  1.116       1.11   \n",
       "1    54        44     10    -70  0.145      1.152  0.125868  0.963       1.11   \n",
       "2    64        44     20    -50  0.468      1.152  0.406250  0.651       1.11   \n",
       "3    74        44     30    -30  0.867      1.152  0.752604  0.273       1.11   \n",
       "4    84        44     40    -10  1.160      1.152  1.006944  0.010       1.11   \n",
       "5    94        44     50     10  1.150      1.152  0.998264  0.036       1.11   \n",
       "6   104        44     60     30  0.883      1.152  0.766493  0.257       1.11   \n",
       "7   114        44     70     50  0.524      1.152  0.454861  0.604       1.11   \n",
       "8   124        44     80     70  0.149      1.152  0.129340  0.965       1.11   \n",
       "9   134        44     90     90  0.001      1.152  0.000868  1.118       1.11   \n",
       "\n",
       "       pr_r  pr_r+pr_t  \n",
       "0  1.005405   1.006273  \n",
       "1  0.867568   0.993436  \n",
       "2  0.586486   0.992736  \n",
       "3  0.245946   0.998550  \n",
       "4  0.009009   1.015953  \n",
       "5  0.032432   1.030696  \n",
       "6  0.231532   0.998025  \n",
       "7  0.544144   0.999005  \n",
       "8  0.869369   0.998710  \n",
       "9  1.007207   1.008075  "
      ]
     },
     "execution_count": 132,
     "metadata": {},
     "output_type": "execute_result"
    }
   ],
   "source": [
    "df = pd.read_csv(\"OP37_1.csv\")\n",
    "df"
   ]
  },
  {
   "cell_type": "code",
   "execution_count": 133,
   "id": "95b8721a",
   "metadata": {},
   "outputs": [
    {
     "data": {
      "image/png": "[encoded data removed]",
      "text/plain": [
       "<Figure size 360x360 with 2 Axes>"
      ]
     },
     "metadata": {
      "needs_background": "light"
     },
     "output_type": "display_data"
    }
   ],
   "source": [
    "x = np.linspace(-90, 90, 50)\n",
    "x2 = np.linspace(-90, 100, 50)\n",
    "COS2 = (np.cos(x*(np.pi/180)))**2\n",
    "SIN2 = (np.sin(x*(np.pi/180)))**2\n",
    "\n",
    "#Plotting graphs\n",
    "fig, (ax1, ax2) = plt.subplots(2, figsize=(5,5))\n",
    "ax1.scatter(df[\"theta\"], df[\"pr_t\"], marker=\"o\")\n",
    "ax1.plot(x, COS2)\n",
    "#ax1.set_title(\"H polarisation filter\")\n",
    "\n",
    "ax1.set_ylabel(\"Intensity\")\n",
    "ax2.scatter(df[\"theta\"], df[\"pr_r\"])\n",
    "ax2.plot(x, SIN2)\n",
    "#ax2.set_title(\"V polarisation filter\")\n",
    "ax2.set_ylabel(\"Intensity\")\n",
    "ax2.set_xlabel(\"Degrees\")\n",
    "\n",
    "plt.show()\n"
   ]
  },
  {
   "cell_type": "markdown",
   "id": "0b560818",
   "metadata": {},
   "source": [
    "## Measuring in the diagonal basis"
   ]
  },
  {
   "cell_type": "code",
   "execution_count": 134,
   "id": "650e573b",
   "metadata": {},
   "outputs": [
    {
     "data": {
      "image/png": "[encoded data removed]",
      "text/plain": [
       "<Figure size 576x360 with 2 Axes>"
      ]
     },
     "metadata": {
      "needs_background": "light"
     },
     "output_type": "display_data"
    }
   ],
   "source": [
    "df2 = pd.read_csv(\"OP37_diag.csv\")\n",
    "\n",
    "x_diag = np.linspace(df2[\"theta\"].min(), df2[\"theta\"].max(), 50)\n",
    "DIAG_H = 1/2*(1 + np.sin((2*x_diag*(np.pi/180))))\n",
    "DIAG_V = 1/2*(1 - np.sin((2*x_diag*(np.pi/180))))\n",
    "fig, (ax1, ax2) = plt.subplots(2, figsize=(8,5))\n",
    "ax1.scatter(df2[\"theta\"], df2[\"pr_t\"])\n",
    "ax1.plot(x_diag, DIAG_H)\n",
    "\n",
    "\n",
    "ax1.set_ylabel(\"Intensity\")\n",
    "ax2.scatter(df2[\"theta\"], df2[\"pr_r\"])\n",
    "ax2.plot(x_diag, DIAG_V)\n",
    "\n",
    "ax2.set_ylabel(\"Intensity\")\n",
    "ax2.set_xlabel(\"Degrees\")\n",
    "\n",
    "plt.show()\n"
   ]
  },
  {
   "cell_type": "markdown",
   "id": "f59c0e63",
   "metadata": {},
   "source": [
    "## Measuring in the circular basis"
   ]
  },
  {
   "cell_type": "code",
   "execution_count": 135,
   "id": "750d51f5",
   "metadata": {},
   "outputs": [
    {
     "data": {
      "image/png": "[encoded data removed]",
      "text/plain": [
       "<Figure size 576x360 with 2 Axes>"
      ]
     },
     "metadata": {
      "needs_background": "light"
     },
     "output_type": "display_data"
    }
   ],
   "source": [
    "df3 = pd.read_csv(\"OP37_circ.csv\")\n",
    "\n",
    "x_circ = np.linspace(df3[\"theta\"].min(), df3[\"theta\"].max(), 50)\n",
    "CIRC_H = np.ones(len(x_circ))*0.5\n",
    "CIRC_V = np.ones(len(x_circ))*0.5\n",
    "fig, (ax1, ax2) = plt.subplots(2, figsize=(8,5))\n",
    "ax1.scatter(df3[\"theta\"], df3[\"pr_t\"])\n",
    "ax1.plot(x_circ, CIRC_H)\n",
    "ax1.set_ylabel(\"Intensity\")\n",
    "ax1.set_ylim([-.5,1.5])\n",
    "\n",
    "\n",
    "ax2.scatter(df3[\"theta\"], df3[\"pr_r\"])\n",
    "ax2.plot(x_circ, CIRC_V)\n",
    "ax2.set_ylabel(\"Intensity\")\n",
    "ax2.set_xlabel(\"Degrees\")\n",
    "ax2.set_ylim([-.5,1.5])\n",
    "\n",
    "plt.show()\n"
   ]
  },
  {
   "cell_type": "markdown",
   "id": "25721909",
   "metadata": {},
   "source": [
    "Zooming in closer, we see systematic faults, but they aren't too bad (about $\\pm 10\\%$)"
   ]
  },
  {
   "cell_type": "code",
   "execution_count": 137,
   "id": "676b3fe2",
   "metadata": {},
   "outputs": [
    {
     "data": {
      "image/png": "[encoded data removed]",
      "text/plain": [
       "<Figure size 576x432 with 2 Axes>"
      ]
     },
     "metadata": {
      "needs_background": "light"
     },
     "output_type": "display_data"
    }
   ],
   "source": [
    "# df3 = pd.read_csv(\"OP37_circ.csv\")\n",
    "\n",
    "CIRC_H = np.zeros(len(x_circ))*0.5\n",
    "CIRC_V = np.zeros(len(x_circ))*0.5\n",
    "fig, (ax1, ax2) = plt.subplots(2, figsize=(8,6))\n",
    "ax1.scatter(df3[\"theta\"], (df3[\"pr_t\"] - 0.5)/0.005)\n",
    "ax1.plot(x_circ, CIRC_H)\n",
    "ax1.set_ylabel(\"% Intensity Deviation\")\n",
    "ax1.set_title(\"Transmitted\")\n",
    "\n",
    "\n",
    "ax2.scatter(df3[\"theta\"], (df3[\"pr_r\"] - 0.5)/0.005)\n",
    "ax2.plot(x_circ, CIRC_V)\n",
    "ax2.set_ylabel(\"% Intensity Deviation\")\n",
    "ax2.set_xlabel(\"Degrees\")\n",
    "ax2.set_title(\"Reflected\")\n",
    "\n",
    "plt.suptitle(\"Percentage Deviation from 0.5\")\n",
    "plt.tight_layout()\n",
    "\n",
    "plt.show()\n"
   ]
  },
  {
   "cell_type": "markdown",
   "id": "1dc63952",
   "metadata": {},
   "source": [
    "## Calculating the arbitrary state (quantum tomography)"
   ]
  },
  {
   "cell_type": "code",
   "execution_count": 138,
   "id": "9c7a3aaa",
   "metadata": {},
   "outputs": [],
   "source": [
    "psi = np.array([0.071-0.921j, -0.213-0.317j])\n",
    "R = np.array([1/np.sqrt(2), 1/np.sqrt(2)*1j])\n",
    "L = np.array([1/np.sqrt(2), -1/np.sqrt(2)*1j])\n",
    "Plus = np.array([1/np.sqrt(2), 1/np.sqrt(2)])\n",
    "Minus = np.array([1/np.sqrt(2), -1/np.sqrt(2)])\n",
    "H = np.array([1, 0])\n",
    "V = np.array([0, 1])\n",
    "Bases = {\"H\":H, \"V\":V, \"Plus\":Plus, \"Minus\":Minus, \"R\":R, \"L\":L}"
   ]
  },
  {
   "cell_type": "code",
   "execution_count": 139,
   "id": "8939b65d",
   "metadata": {},
   "outputs": [
    {
     "name": "stdout",
     "output_type": "stream",
     "text": [
      "The component in the H state is:\n",
      "0.853282\n",
      "The component in the V state is:\n",
      "0.14585800000000004\n",
      "The component in the Plus state is:\n",
      "0.7764040000000001\n",
      "The component in the Minus state is:\n",
      "0.22273599999999996\n",
      "The component in the R state is:\n",
      "0.7182499999999999\n",
      "The component in the L state is:\n",
      "0.2808899999999999\n"
     ]
    }
   ],
   "source": [
    "for k,v in Bases.items():\n",
    "    print(\"The component in the\", k, \"state is:\")\n",
    "    print(abs(v@psi)**2)"
   ]
  },
  {
   "cell_type": "markdown",
   "id": "a4f62149",
   "metadata": {},
   "source": [
    "We can now check that $| {\\psi'}\\rangle$ can be reconstructed from $|\\psi\\rangle$."
   ]
  },
  {
   "cell_type": "code",
   "execution_count": 140,
   "id": "8eb47953",
   "metadata": {},
   "outputs": [],
   "source": [
    "psi_prime = np.array([0.932, 0.381*np.exp(1j*(-38.43*np.pi/180))])"
   ]
  },
  {
   "cell_type": "code",
   "execution_count": 141,
   "id": "2b90f754",
   "metadata": {},
   "outputs": [
    {
     "name": "stdout",
     "output_type": "stream",
     "text": [
      "(0.9911294477508839, -1.4938583777385346)\n",
      "(1.0023979075989164, -1.4916999649053126)\n"
     ]
    }
   ],
   "source": [
    "import cmath\n",
    "check = psi/psi_prime\n",
    "print(cmath.polar(check[0]))\n",
    "print(cmath.polar(check[1]))\n",
    "_ , change_angle = cmath.polar(check[0])"
   ]
  },
  {
   "cell_type": "code",
   "execution_count": 142,
   "id": "3739bc2f",
   "metadata": {},
   "outputs": [
    {
     "name": "stdout",
     "output_type": "stream",
     "text": [
      "(0.9911294477508837, -1.0485407871838361e-16)\n",
      "(1.0023979075989164, 0.0021584128332219022)\n"
     ]
    }
   ],
   "source": [
    "psi_prime = psi_prime * np.exp(1j*change_angle)\n",
    "check = psi/psi_prime\n",
    "print(cmath.polar(check[0]))\n",
    "print(cmath.polar(check[1]))\n",
    "_, res_angle = cmath.polar(check[1])"
   ]
  },
  {
   "cell_type": "markdown",
   "id": "f70f88ee",
   "metadata": {},
   "source": [
    "so we see that these are equal up to a phase constant."
   ]
  },
  {
   "cell_type": "code",
   "execution_count": 143,
   "id": "6c0cd47e",
   "metadata": {},
   "outputs": [],
   "source": [
    "t = np.linspace(0, 2*np.pi, 50)\n",
    "H = np.cos(t)*abs(psi[0])**2\n",
    "V = np.sin(t)*abs(psi[1])**2"
   ]
  },
  {
   "cell_type": "code",
   "execution_count": 150,
   "id": "eb31dda9",
   "metadata": {},
   "outputs": [],
   "source": [
    "H_rectd = np.cos(t)*abs(psi_prime[0])**2\n",
    "V_rectd = np.sin(t - res_angle)*abs(psi_prime[1])**2"
   ]
  },
  {
   "cell_type": "code",
   "execution_count": 151,
   "id": "149f1f35",
   "metadata": {},
   "outputs": [
    {
     "data": {
      "image/png": "[encoded data removed]",
      "text/plain": [
       "<Figure size 432x288 with 1 Axes>"
      ]
     },
     "metadata": {
      "needs_background": "light"
     },
     "output_type": "display_data"
    }
   ],
   "source": [
    "plt.plot(H, V, label = 'Theoretical')\n",
    "plt.plot(H_rectd, V_rectd, label = \"Reconstructed\")\n",
    "plt.legend()\n",
    "plt.show()"
   ]
  }
 ],
 "metadata": {
  "kernelspec": {
   "display_name": "Python 3 (ipykernel)",
   "language": "python",
   "name": "python3"
  },
  "language_info": {
   "codemirror_mode": {
    "name": "ipython",
    "version": 3
   },
   "file_extension": ".py",
   "mimetype": "text/x-python",
   "name": "python",
   "nbconvert_exporter": "python",
   "pygments_lexer": "ipython3",
   "version": "3.9.12"
  }
 },
 "nbformat": 4,
 "nbformat_minor": 5
}
